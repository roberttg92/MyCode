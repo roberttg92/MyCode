{
 "cells": [
  {
   "cell_type": "code",
   "execution_count": 5,
   "metadata": {},
   "outputs": [
    {
     "name": "stdout",
     "output_type": "stream",
     "text": [
      "enter word hello\n",
      "no dat gey\n"
     ]
    }
   ],
   "source": [
    "reword = input(\"enter word \")\n",
    "\n",
    "if (reword[0]) == \"r\" or (reword[0]) == \"R\" :\n",
    "    print ((reword[0]) + (\"eee\") + (reword[1::]))\n",
    "else:\n",
    "    print(\"no dat gey\")"
   ]
  },
  {
   "cell_type": "code",
   "execution_count": null,
   "metadata": {},
   "outputs": [],
   "source": [
    "reword = input(\"type word\")"
   ]
  },
  {
   "cell_type": "code",
   "execution_count": null,
   "metadata": {},
   "outputs": [],
   "source": [
    "print ((reword[0]) + (\"eee\") + (word[1::]))"
   ]
  },
  {
   "cell_type": "code",
   "execution_count": 13,
   "metadata": {},
   "outputs": [
    {
     "name": "stdout",
     "output_type": "stream",
     "text": [
      "enter word Read\n",
      "Reeeead\n"
     ]
    }
   ],
   "source": [
    "reword = input(\"enter word \")\n",
    "\n",
    "if (reword[0].lower()) == \"r\":\n",
    "    print ((reword[0]) + (\"eee\") + (reword[1::]))\n",
    "else:\n",
    "    print(\"no dat gey\")"
   ]
  },
  {
   "cell_type": "code",
   "execution_count": null,
   "metadata": {},
   "outputs": [],
   "source": []
  }
 ],
 "metadata": {
  "kernelspec": {
   "display_name": "Python 3",
   "language": "python",
   "name": "python3"
  },
  "language_info": {
   "codemirror_mode": {
    "name": "ipython",
    "version": 3
   },
   "file_extension": ".py",
   "mimetype": "text/x-python",
   "name": "python",
   "nbconvert_exporter": "python",
   "pygments_lexer": "ipython3",
   "version": "3.7.3"
  }
 },
 "nbformat": 4,
 "nbformat_minor": 2
}
